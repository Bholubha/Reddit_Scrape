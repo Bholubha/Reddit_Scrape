{
 "cells": [
  {
   "cell_type": "code",
   "execution_count": 1,
   "id": "74c85951-245f-4054-aca1-7e4b1fb83a1a",
   "metadata": {},
   "outputs": [],
   "source": [
    "## Reference : https://www.surgehq.ai/blog/inter-rater-reliability-metrics-an-introduction-to-krippendorffs-alpha\n",
    "## Reference : https://real-statistics.com/reliability/interrater-reliability/krippendorffs-alpha/krippendorffs-alpha-basic-concepts/\n",
    "import numpy as np\n",
    "import pandas as pd"
   ]
  },
  {
   "cell_type": "code",
   "execution_count": 2,
   "id": "9137ee01-ee3c-438f-8e57-2e84ef2cce37",
   "metadata": {},
   "outputs": [],
   "source": [
    "df = pd.read_csv('Submission/hundred_comments_final.csv')"
   ]
  },
  {
   "cell_type": "code",
   "execution_count": 3,
   "id": "4ed1e4ae-2ff1-4f58-8397-c287432c5041",
   "metadata": {},
   "outputs": [],
   "source": [
    "data = df[['ID','Text','Student_1 (Rakesh)','Student_2 (Aamod)','Student_3 (Dhruv)']]"
   ]
  },
  {
   "cell_type": "code",
   "execution_count": 4,
   "id": "de6f5109-b2f0-4753-bb96-a32eb7fca823",
   "metadata": {},
   "outputs": [
    {
     "data": {
      "text/html": [
       "<div>\n",
       "<style scoped>\n",
       "    .dataframe tbody tr th:only-of-type {\n",
       "        vertical-align: middle;\n",
       "    }\n",
       "\n",
       "    .dataframe tbody tr th {\n",
       "        vertical-align: top;\n",
       "    }\n",
       "\n",
       "    .dataframe thead th {\n",
       "        text-align: right;\n",
       "    }\n",
       "</style>\n",
       "<table border=\"1\" class=\"dataframe\">\n",
       "  <thead>\n",
       "    <tr style=\"text-align: right;\">\n",
       "      <th></th>\n",
       "      <th>ID</th>\n",
       "      <th>Text</th>\n",
       "      <th>Student_1 (Rakesh)</th>\n",
       "      <th>Student_2 (Aamod)</th>\n",
       "      <th>Student_3 (Dhruv)</th>\n",
       "    </tr>\n",
       "  </thead>\n",
       "  <tbody>\n",
       "    <tr>\n",
       "      <th>0</th>\n",
       "      <td>jkb0xuj</td>\n",
       "      <td>Haha thanks,</td>\n",
       "      <td>Positive</td>\n",
       "      <td>Positive</td>\n",
       "      <td>Positive</td>\n",
       "    </tr>\n",
       "    <tr>\n",
       "      <th>1</th>\n",
       "      <td>jno5mjc</td>\n",
       "      <td>Fr yeah that would be good for a change</td>\n",
       "      <td>Positive</td>\n",
       "      <td>Positive</td>\n",
       "      <td>Neutral</td>\n",
       "    </tr>\n",
       "    <tr>\n",
       "      <th>2</th>\n",
       "      <td>jpy906z</td>\n",
       "      <td>Ty so much. It sounds like a lot to do and enj...</td>\n",
       "      <td>Positive</td>\n",
       "      <td>Positive</td>\n",
       "      <td>Positive</td>\n",
       "    </tr>\n",
       "    <tr>\n",
       "      <th>3</th>\n",
       "      <td>js2patg</td>\n",
       "      <td>This got a lot of comments, that's a good start.</td>\n",
       "      <td>Positive</td>\n",
       "      <td>Positive</td>\n",
       "      <td>Positive</td>\n",
       "    </tr>\n",
       "    <tr>\n",
       "      <th>4</th>\n",
       "      <td>jrzz8h8</td>\n",
       "      <td>Where can you find the best burgers in maldives?</td>\n",
       "      <td>Neutral</td>\n",
       "      <td>Neutral</td>\n",
       "      <td>Neutral</td>\n",
       "    </tr>\n",
       "    <tr>\n",
       "      <th>...</th>\n",
       "      <td>...</td>\n",
       "      <td>...</td>\n",
       "      <td>...</td>\n",
       "      <td>...</td>\n",
       "      <td>...</td>\n",
       "    </tr>\n",
       "    <tr>\n",
       "      <th>95</th>\n",
       "      <td>jrxquk2</td>\n",
       "      <td>I know of four and am part one two. It's one o...</td>\n",
       "      <td>Neutral</td>\n",
       "      <td>Neutral</td>\n",
       "      <td>Negative</td>\n",
       "    </tr>\n",
       "    <tr>\n",
       "      <th>96</th>\n",
       "      <td>js351pn</td>\n",
       "      <td>what do you do for work ??</td>\n",
       "      <td>Neutral</td>\n",
       "      <td>Neutral</td>\n",
       "      <td>Neutral</td>\n",
       "    </tr>\n",
       "    <tr>\n",
       "      <th>97</th>\n",
       "      <td>jrxx1jy</td>\n",
       "      <td>Let's get you aquatinted</td>\n",
       "      <td>Negative</td>\n",
       "      <td>Positive</td>\n",
       "      <td>Positive</td>\n",
       "    </tr>\n",
       "    <tr>\n",
       "      <th>98</th>\n",
       "      <td>jryqr05</td>\n",
       "      <td>I would like that</td>\n",
       "      <td>Neutral</td>\n",
       "      <td>Positive</td>\n",
       "      <td>Positive</td>\n",
       "    </tr>\n",
       "    <tr>\n",
       "      <th>99</th>\n",
       "      <td>js1sf11</td>\n",
       "      <td>is there a country that let's you marry a beef...</td>\n",
       "      <td>Neutral</td>\n",
       "      <td>Neutral</td>\n",
       "      <td>Neutral</td>\n",
       "    </tr>\n",
       "  </tbody>\n",
       "</table>\n",
       "<p>100 rows × 5 columns</p>\n",
       "</div>"
      ],
      "text/plain": [
       "         ID                                               Text  \\\n",
       "0   jkb0xuj                                       Haha thanks,   \n",
       "1   jno5mjc            Fr yeah that would be good for a change   \n",
       "2   jpy906z  Ty so much. It sounds like a lot to do and enj...   \n",
       "3   js2patg   This got a lot of comments, that's a good start.   \n",
       "4   jrzz8h8   Where can you find the best burgers in maldives?   \n",
       "..      ...                                                ...   \n",
       "95  jrxquk2  I know of four and am part one two. It's one o...   \n",
       "96  js351pn                         what do you do for work ??   \n",
       "97  jrxx1jy                           Let's get you aquatinted   \n",
       "98  jryqr05                                  I would like that   \n",
       "99  js1sf11  is there a country that let's you marry a beef...   \n",
       "\n",
       "   Student_1 (Rakesh) Student_2 (Aamod) Student_3 (Dhruv)  \n",
       "0            Positive          Positive          Positive  \n",
       "1            Positive          Positive           Neutral  \n",
       "2            Positive          Positive          Positive  \n",
       "3            Positive          Positive          Positive  \n",
       "4             Neutral           Neutral           Neutral  \n",
       "..                ...               ...               ...  \n",
       "95            Neutral           Neutral          Negative  \n",
       "96            Neutral           Neutral           Neutral  \n",
       "97           Negative          Positive          Positive  \n",
       "98            Neutral          Positive          Positive  \n",
       "99            Neutral           Neutral           Neutral  \n",
       "\n",
       "[100 rows x 5 columns]"
      ]
     },
     "execution_count": 4,
     "metadata": {},
     "output_type": "execute_result"
    }
   ],
   "source": [
    "data"
   ]
  },
  {
   "cell_type": "code",
   "execution_count": 5,
   "id": "0128b4b7-2742-4813-b494-b4d400cfcd7b",
   "metadata": {},
   "outputs": [],
   "source": [
    "### pi = (1/(r_bar(ri - 1)))*{Summation k = 1 to 3 (since pos,neg,neu)}[rik(rik*-1)]\n",
    "\n",
    "### pa* = (1/n){summation i=1 to n}[pi]\n",
    "\n",
    "### where i = rows ; n = total no. of rows\n",
    "\n",
    "### epsilon = 1/(n*r_bar)"
   ]
  },
  {
   "cell_type": "code",
   "execution_count": 6,
   "id": "178244ec-79bd-4731-81aa-84231de5777a",
   "metadata": {},
   "outputs": [],
   "source": [
    "## k = kth label ie 0 = pos ; 1 = neg ; 2 = neu"
   ]
  },
  {
   "cell_type": "code",
   "execution_count": 7,
   "id": "c0abd587-a3da-42f6-a589-4fe78f793a96",
   "metadata": {},
   "outputs": [],
   "source": [
    "def label_name(x):\n",
    "    if x == \"Positive\":\n",
    "        return 0\n",
    "    elif x == \"Negative\":\n",
    "        return 1\n",
    "    elif x == \"Neutral\":\n",
    "        return 2\n",
    "    else:\n",
    "        print(\"Error Wrong Label by Reviewer\")\n",
    "        return 2"
   ]
  },
  {
   "cell_type": "code",
   "execution_count": 8,
   "id": "95149f7c-62e7-4b81-adbe-ac8e5ca4db4b",
   "metadata": {},
   "outputs": [],
   "source": [
    "## pi implementation\n",
    "pi_sum = 0.0\n",
    "rik1 = [0]*len(data)\n",
    "rik2 = [0]*len(data)\n",
    "rik3 = [0]*len(data)\n",
    "for i in range(0,len(data)):\n",
    "    arr_label = [0] * 3\n",
    "    for k in range(2,5):\n",
    "        arr_label[label_name(data.iloc[i,k])] += 1\n",
    "    \n",
    "    rik1[i] = arr_label[0]**2 - arr_label[0]\n",
    "    rik2[i] = arr_label[1]**2 - arr_label[1]\n",
    "    rik3[i] = arr_label[2]**2 - arr_label[2]\n",
    "    rik = rik1[i] + rik2[i] + rik3[i]\n",
    "\n",
    "    ### 1/6 since [r_bar = ri = 3]\n",
    "    pi = rik/6\n",
    "    pi_sum += pi"
   ]
  },
  {
   "cell_type": "code",
   "execution_count": 9,
   "id": "17ac4c1d-52cf-4906-ac80-b8e658231846",
   "metadata": {},
   "outputs": [
    {
     "name": "stdout",
     "output_type": "stream",
     "text": [
      "Pa* = 0.6266666666666673\n"
     ]
    }
   ],
   "source": [
    "pa_star = pi_sum/len(data)\n",
    "print(\"Pa* = \" + str(pa_star))"
   ]
  },
  {
   "cell_type": "code",
   "execution_count": 10,
   "id": "3149e53c-888e-486b-b38f-714865e1ca7e",
   "metadata": {},
   "outputs": [
    {
     "name": "stdout",
     "output_type": "stream",
     "text": [
      "Epsilon = 0.0033333333333333335\n"
     ]
    }
   ],
   "source": [
    "epsilon = 1/(3*len(data))\n",
    "print(\"Epsilon = \" + str(epsilon))"
   ]
  },
  {
   "cell_type": "code",
   "execution_count": 11,
   "id": "eb607e19-3f1d-4deb-a748-dcbe60380286",
   "metadata": {},
   "outputs": [
    {
     "name": "stdout",
     "output_type": "stream",
     "text": [
      "Pa = 0.6279111111111116\n"
     ]
    }
   ],
   "source": [
    "pa = pa_star*(1-epsilon) + epsilon\n",
    "print(\"Pa = \" + str(pa))"
   ]
  },
  {
   "cell_type": "code",
   "execution_count": 12,
   "id": "3bcf3e0f-1103-448e-aadc-3d87c921eac0",
   "metadata": {},
   "outputs": [],
   "source": [
    "### pi_k = epsilon * sumation{ i = 1 to n}[rik]\n",
    "\n",
    "### pi_h = sumation{h,k}[w_hk * pi_h * pi_k]\n",
    "\n",
    "### pe = pi_0 ** 2 + pi_1 ** 2 + pi_2 ** 2"
   ]
  },
  {
   "cell_type": "code",
   "execution_count": 13,
   "id": "82d442bd-c66b-4dea-b035-53b495f23c02",
   "metadata": {},
   "outputs": [
    {
     "name": "stdout",
     "output_type": "stream",
     "text": [
      "Pe = 0.5622222222222223\n"
     ]
    }
   ],
   "source": [
    "pe = 0\n",
    "pe += (epsilon * np.sum(rik1))**2\n",
    "pe += (epsilon * np.sum(rik2))**2\n",
    "pe += (epsilon * np.sum(rik3))**2\n",
    "\n",
    "print(\"Pe = \" + str(pe))"
   ]
  },
  {
   "cell_type": "code",
   "execution_count": 14,
   "id": "e32b285a-9482-4114-9b7a-de625fd483ea",
   "metadata": {},
   "outputs": [
    {
     "name": "stdout",
     "output_type": "stream",
     "text": [
      "Alpha = 0.15005076142132087\n"
     ]
    }
   ],
   "source": [
    "alpha = (pa - pe)/(1 - pe)\n",
    "print(\"Alpha = \" + str(alpha))"
   ]
  }
 ],
 "metadata": {
  "kernelspec": {
   "display_name": "Python 3 (ipykernel)",
   "language": "python",
   "name": "python3"
  },
  "language_info": {
   "codemirror_mode": {
    "name": "ipython",
    "version": 3
   },
   "file_extension": ".py",
   "mimetype": "text/x-python",
   "name": "python",
   "nbconvert_exporter": "python",
   "pygments_lexer": "ipython3",
   "version": "3.9.16"
  }
 },
 "nbformat": 4,
 "nbformat_minor": 5
}
